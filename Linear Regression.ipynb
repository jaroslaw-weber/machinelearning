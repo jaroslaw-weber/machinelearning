{
 "cells": [
  {
   "cell_type": "code",
   "execution_count": 1,
   "metadata": {
    "collapsed": false,
    "deletable": true,
    "editable": true,
    "scrolled": true
   },
   "outputs": [
    {
     "name": "stdout",
     "output_type": "stream",
     "text": [
      "hdf5 is not supported on this machine (please install/reinstall h5py for optimal experience)\n"
     ]
    }
   ],
   "source": [
    "import tflearn\n",
    "import random"
   ]
  },
  {
   "cell_type": "code",
   "execution_count": 2,
   "metadata": {
    "collapsed": false,
    "deletable": true,
    "editable": true
   },
   "outputs": [
    {
     "name": "stdout",
     "output_type": "stream",
     "text": [
      "few examples of input: [67.2909276592354, 70.29032284530051, 23.130920141630895, 54.25261641396465]\n"
     ]
    }
   ],
   "source": [
    "#preparing data\n",
    "\n",
    "#data size\n",
    "data_len=200\n",
    "#minimum X (1-dim)\n",
    "minval=0.0\n",
    "#maximum X(second dimension)\n",
    "maxval=100.0\n",
    "def rand():\n",
    "    return random.uniform(minval, maxval)\n",
    "\n",
    "#X=[[rand(), rand()] for i in range(data_len)]\n",
    "X=[rand() for i in range(data_len)]\n",
    "print(\"few examples of input: {0}\".format(X[:4]))"
   ]
  },
  {
   "cell_type": "code",
   "execution_count": 3,
   "metadata": {
    "collapsed": false,
    "deletable": true,
    "editable": true
   },
   "outputs": [
    {
     "name": "stdout",
     "output_type": "stream",
     "text": [
      "calculated outputs: [202.87278297770618, 211.8709685359015, 70.39276042489269, 163.75784924189395]\n"
     ]
    }
   ],
   "source": [
    "#calulating outputs\n",
    "Y=[a*3+1 for a in X]\n",
    "\n",
    "print(\"calculated outputs: {0}\".format(Y[:4]))"
   ]
  },
  {
   "cell_type": "code",
   "execution_count": 4,
   "metadata": {
    "collapsed": false,
    "deletable": true,
    "editable": true
   },
   "outputs": [],
   "source": [
    "\n",
    "input_ = tflearn.input_data(shape=[None])\n",
    "linear = tflearn.single_unit(input_)\n",
    "regression = tflearn.regression(linear, optimizer='sgd', loss='mean_square',\n",
    "                                metric='R2', learning_rate=0.01)\n",
    "model = tflearn.DNN(regression)"
   ]
  },
  {
   "cell_type": "code",
   "execution_count": 5,
   "metadata": {
    "collapsed": false,
    "deletable": true,
    "editable": true
   },
   "outputs": [
    {
     "name": "stdout",
     "output_type": "stream",
     "text": [
      "Training Step: 130  | total loss: \u001b[1m\u001b[32m2.58937\u001b[0m\u001b[0m | time: 0.143s\n",
      "\u001b[2K\r",
      "| SGD | epoch: 010 | loss: 2.58937 -- iter: 200/200\n"
     ]
    }
   ],
   "source": [
    "\n",
    "model.fit(X, Y,  n_epoch=10, batch_size=16, show_metric=False, snapshot_epoch=False)"
   ]
  },
  {
   "cell_type": "code",
   "execution_count": 7,
   "metadata": {
    "collapsed": false,
    "deletable": true,
    "editable": true
   },
   "outputs": [
    {
     "data": {
      "text/plain": [
       "[3.6320815086364746,\n",
       " 6.6699442863464355,\n",
       " 9.707807540893555,\n",
       " 12.745670318603516,\n",
       " 15.783533096313477,\n",
       " 18.821395874023438,\n",
       " 21.8592586517334,\n",
       " 24.89712142944336,\n",
       " 27.93498420715332,\n",
       " 30.97284698486328]"
      ]
     },
     "execution_count": 7,
     "metadata": {},
     "output_type": "execute_result"
    }
   ],
   "source": [
    "model.predict([1,2,3,4,5,6,7,8,9,10])"
   ]
  },
  {
   "cell_type": "code",
   "execution_count": null,
   "metadata": {
    "collapsed": true,
    "deletable": true,
    "editable": true
   },
   "outputs": [],
   "source": []
  }
 ],
 "metadata": {
  "kernelspec": {
   "display_name": "Python 3",
   "language": "python",
   "name": "python3"
  },
  "language_info": {
   "codemirror_mode": {
    "name": "ipython",
    "version": 3
   },
   "file_extension": ".py",
   "mimetype": "text/x-python",
   "name": "python",
   "nbconvert_exporter": "python",
   "pygments_lexer": "ipython3",
   "version": "3.5.2"
  }
 },
 "nbformat": 4,
 "nbformat_minor": 2
}
